{
 "cells": [
  {
   "cell_type": "markdown",
   "metadata": {},
   "source": [
    "# AOC 2020 Day 12\n"
   ]
  },
  {
   "cell_type": "code",
   "execution_count": 1,
   "metadata": {},
   "outputs": [],
   "source": [
    "import enum\n",
    "from dataclasses import dataclass\n",
    "\n",
    "SampleInput=\"\"\"F10\n",
    "N3\n",
    "F7\n",
    "R90\n",
    "F11\"\"\"\n",
    "\n"
   ]
  },
  {
   "cell_type": "code",
   "execution_count": 2,
   "metadata": {},
   "outputs": [],
   "source": [
    "class Action(enum.Enum):\n",
    "    north = enum.auto()\n",
    "    south = enum.auto()\n",
    "    west = enum.auto()\n",
    "    east = enum.auto()\n",
    "    forward = enum.auto()\n",
    "    left = enum.auto()\n",
    "    right = enum.auto()\n",
    "\n",
    "class Direction(enum.Enum):\n",
    "    north = enum.auto()\n",
    "    south = enum.auto()\n",
    "    west = enum.auto()\n",
    "    east = enum.auto()\n",
    "    \n",
    "    \n",
    "@dataclass\n",
    "class Move:\n",
    "    action: Action\n",
    "    distance: int = 0\n",
    "    degrees: int = 0\n",
    "\n",
    "\n",
    "@dataclass\n",
    "class Location:\n",
    "    x: int\n",
    "    y: int\n",
    "\n",
    "class Ferry:\n",
    "    def __init__(self):\n",
    "        self.direction = Direction.east\n",
    "        self.location = Location(x=0,y=0)\n",
    "\n",
    "    #\n",
    "    # Direction to Location\n",
    "    #\n",
    "    #             ^ +x (north)\n",
    "    #             |\n",
    "    #             |\n",
    "    # -y (west)   |     +y (east)\n",
    "    # <-----------|-------->\n",
    "    #             |\n",
    "    #             |\n",
    "    #             | -x (south)\n",
    "    #            \\./\n",
    "    #\n",
    "\n",
    "    def go_north(self, distance):\n",
    "        self.location.x += distance\n",
    "\n",
    "    def go_south(self, distance):\n",
    "        self.location.x -= distance\n",
    "\n",
    "    def go_east(self, distance):\n",
    "        self.location.y += distance\n",
    "\n",
    "    def go_west(self, distance):\n",
    "        self.location.y -= distance\n",
    "    \n",
    "    def go_forward(self, distance):\n",
    "        if self.direction == Direction.north:\n",
    "            self.go_north(distance)\n",
    "        elif self.direction == Direction.west:\n",
    "            self.go_west(distance)\n",
    "        elif self.direction == Direction.south:\n",
    "            self.go_south(distance)\n",
    "        elif self.direction == Direction.east:\n",
    "            self.go_east(distance)\n",
    "    \n",
    "    def turn_left(self, degrees):\n",
    "#         print(\"left: {}\".format(degrees))\n",
    "        for _ in range(degrees//90):\n",
    "#             print(\"direction: {}\".format(self.direction))\n",
    "#             print(\"turn left!\")\n",
    "            if self.direction == Direction.north:\n",
    "                self.direction = Direction.west\n",
    "            elif self.direction == Direction.west:\n",
    "                self.direction = Direction.south\n",
    "            elif self.direction == Direction.south:\n",
    "                self.direction = Direction.east\n",
    "            elif self.direction == Direction.east:\n",
    "                self.direction = Direction.north\n",
    "#             print(\"direction: {}\".format(self.direction))\n",
    "\n",
    "    \n",
    "    def turn_right(self, degrees):\n",
    "#         print(\"right: {}\".format(degrees))\n",
    "        for _ in range(degrees//90):\n",
    "#             print(\"direction: {}\".format(self.direction))\n",
    "#             print(\"turn right!\")\n",
    "            if self.direction == Direction.north:\n",
    "                self.direction = Direction.east\n",
    "            elif self.direction == Direction.east:\n",
    "                self.direction = Direction.south\n",
    "            elif self.direction == Direction.south:\n",
    "                self.direction = Direction.west\n",
    "            elif self.direction == Direction.west:\n",
    "                self.direction = Direction.north\n",
    "#             print(\"direction: {}\".format(self.direction))\n",
    "\n",
    "    \n",
    "    def move(self, mov):\n",
    "#         print(\"at {},  {}\".format(self.location, self.direction))\n",
    "#         print(\"move received: {}\".format(mov))\n",
    "        if mov.action == Action.forward:\n",
    "            self.go_forward(mov.distance)\n",
    "        elif mov.action == Action.north:\n",
    "            self.go_north(mov.distance)\n",
    "        elif mov.action == Action.south:\n",
    "            self.go_south(mov.distance)\n",
    "        elif mov.action == Action.east:\n",
    "            self.go_east(mov.distance)\n",
    "        elif mov.action == Action.west:\n",
    "            self.go_west(mov.distance)\n",
    "        elif mov.action == Action.left:\n",
    "            self.turn_left(mov.degrees)\n",
    "        elif mov.action == Action.right:\n",
    "            self.turn_right(mov.degrees)\n",
    "#         print(\"now at {},  {}\".format(self.location, self.direction))\n",
    "#         print()\n",
    "\n"
   ]
  },
  {
   "cell_type": "code",
   "execution_count": 3,
   "metadata": {},
   "outputs": [],
   "source": [
    "def parse_input(input):\n",
    "    result = []\n",
    "    for line in input.split('\\n'):\n",
    "        \n",
    "        if line == \"\":\n",
    "            continue\n",
    "        \n",
    "        action = None\n",
    "        distance = 0\n",
    "        degrees = 0\n",
    "\n",
    "        a = line[0]\n",
    "        param = int(line[1:])\n",
    "        \n",
    "        if a in ['N', 'S', 'W', 'E', 'F']:\n",
    "            distance = param\n",
    "        if a in ['L', 'R']:\n",
    "            degrees = param\n",
    "\n",
    "        if a == 'N':\n",
    "            action = Action.north\n",
    "        elif a == 'S':\n",
    "            action = Action.south\n",
    "        elif a == 'W':\n",
    "            action = Action.west\n",
    "        elif a == 'E':\n",
    "            action = Action.east\n",
    "        elif a == 'F':\n",
    "            action = Action.forward\n",
    "        elif a == 'R':\n",
    "            action = Action.right\n",
    "        elif a == 'L':\n",
    "            action = Action.left\n",
    "        else:\n",
    "            print(\"Unsupported action\")\n",
    "\n",
    "        result.append(Move(action=action, distance=distance, degrees=degrees))\n",
    "    return result\n",
    "    "
   ]
  },
  {
   "cell_type": "code",
   "execution_count": 4,
   "metadata": {},
   "outputs": [
    {
     "name": "stdout",
     "output_type": "stream",
     "text": [
      "Location(x=-8, y=17)\n",
      "Direction.south\n"
     ]
    }
   ],
   "source": [
    "moves = parse_input(SampleInput)\n",
    "boat = Ferry()\n",
    "for mov in moves:\n",
    "    boat.move(mov)\n",
    "\n",
    "print(boat.location)\n",
    "print(boat.direction)"
   ]
  },
  {
   "cell_type": "code",
   "execution_count": 5,
   "metadata": {},
   "outputs": [
    {
     "name": "stdout",
     "output_type": "stream",
     "text": [
      "Ok!\n"
     ]
    }
   ],
   "source": [
    "def part1(input):\n",
    "    boat = Ferry()\n",
    "    moves = parse_input(input)\n",
    "    for mov in moves:\n",
    "        boat.move(mov)\n",
    "    \n",
    "    return abs(boat.location.x) + abs(boat.location.y)\n",
    "\n",
    "assert part1(SampleInput) == 25, \"incorrect result, expected 25, got {}\".format(part1(SampleInput))\n",
    "print(\"Ok!\")"
   ]
  },
  {
   "cell_type": "code",
   "execution_count": 6,
   "metadata": {},
   "outputs": [
    {
     "name": "stdout",
     "output_type": "stream",
     "text": [
      "962\n"
     ]
    }
   ],
   "source": [
    "day12 = open(\"./inputs/day12\").read()\n",
    "print(part1(day12))\n",
    "\n"
   ]
  },
  {
   "cell_type": "code",
   "execution_count": null,
   "metadata": {},
   "outputs": [],
   "source": []
  }
 ],
 "metadata": {
  "kernelspec": {
   "display_name": "Python 3",
   "language": "python",
   "name": "python3"
  },
  "language_info": {
   "codemirror_mode": {
    "name": "ipython",
    "version": 3
   },
   "file_extension": ".py",
   "mimetype": "text/x-python",
   "name": "python",
   "nbconvert_exporter": "python",
   "pygments_lexer": "ipython3",
   "version": "3.9.0"
  }
 },
 "nbformat": 4,
 "nbformat_minor": 4
}
