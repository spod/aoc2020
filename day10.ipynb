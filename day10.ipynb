{
 "cells": [
  {
   "cell_type": "markdown",
   "metadata": {},
   "source": [
    "# AOC 2020 Day 10"
   ]
  },
  {
   "cell_type": "code",
   "execution_count": 47,
   "metadata": {},
   "outputs": [],
   "source": [
    "from collections import defaultdict\n",
    "from functools import lru_cache"
   ]
  },
  {
   "cell_type": "code",
   "execution_count": 2,
   "metadata": {},
   "outputs": [],
   "source": [
    "SampleInput=\"\"\"16\n",
    "10\n",
    "15\n",
    "5\n",
    "1\n",
    "11\n",
    "7\n",
    "19\n",
    "6\n",
    "12\n",
    "4\"\"\"\n",
    "sample_lines=[int(l) for l in SampleInput.split('\\n')]"
   ]
  },
  {
   "cell_type": "code",
   "execution_count": 3,
   "metadata": {},
   "outputs": [
    {
     "data": {
      "text/plain": [
       "22"
      ]
     },
     "execution_count": 3,
     "metadata": {},
     "output_type": "execute_result"
    }
   ],
   "source": [
    "lowest_adapter = 0\n",
    "highest_adapter = max(sample_lines) + 3\n",
    "highest_adapter"
   ]
  },
  {
   "cell_type": "code",
   "execution_count": 4,
   "metadata": {},
   "outputs": [
    {
     "name": "stdout",
     "output_type": "stream",
     "text": [
      "x:1, x-prev:1\n",
      "x:4, x-prev:3\n",
      "x:5, x-prev:1\n",
      "x:6, x-prev:1\n",
      "x:7, x-prev:1\n",
      "x:10, x-prev:3\n",
      "x:11, x-prev:1\n",
      "x:12, x-prev:1\n",
      "x:15, x-prev:3\n",
      "x:16, x-prev:1\n",
      "x:19, x-prev:3\n",
      "x:22, x-prev:3\n",
      "defaultdict(<class 'list'>, {1: [1, 5, 6, 7, 11, 12, 16], 3: [4, 10, 15, 19, 22]})\n",
      "1: 7\n",
      "3: 5\n"
     ]
    }
   ],
   "source": [
    "prev=lowest_adapter\n",
    "counts = defaultdict(list)\n",
    "sample_lines.sort()\n",
    "sample_lines.append(highest_adapter)\n",
    "for x in sample_lines:\n",
    "    diff = x-prev\n",
    "    print(\"x:{}, x-prev:{}\".format(x,x-prev))\n",
    "    counts[diff].append(x)\n",
    "    prev=x\n",
    "print(counts)\n",
    "print(\"1: {}\".format(len(counts[1])))\n",
    "print(\"3: {}\".format(len(counts[3])))\n",
    "\n"
   ]
  },
  {
   "cell_type": "code",
   "execution_count": 29,
   "metadata": {},
   "outputs": [
    {
     "name": "stdout",
     "output_type": "stream",
     "text": [
      "1: 7\n",
      "2: 0\n",
      "3: 8\n"
     ]
    },
    {
     "data": {
      "text/plain": [
       "56"
      ]
     },
     "execution_count": 29,
     "metadata": {},
     "output_type": "execute_result"
    }
   ],
   "source": [
    "def part1(lines):\n",
    "    lowest_adapter=0\n",
    "    highest_adapter=max(lines)+3\n",
    "    lines.sort()\n",
    "    lines.append(highest_adapter)\n",
    "    counts=defaultdict(list)\n",
    "    prev=lowest_adapter\n",
    "    for l in lines:\n",
    "        diff = l-prev\n",
    "        #print(\"l:{}, l-prev:{}\".format(l,l-prev))\n",
    "        counts[diff].append(x)\n",
    "        prev=l\n",
    "    print(\"1: {}\".format(len(counts[1])))\n",
    "    print(\"2: {}\".format(len(counts.get(2,[]))))\n",
    "    print(\"3: {}\".format(len(counts[3])))\n",
    "    return(len(counts[1])*len(counts[3]))\n",
    "part1(sample_lines)"
   ]
  },
  {
   "cell_type": "code",
   "execution_count": 30,
   "metadata": {},
   "outputs": [],
   "source": [
    "SampleInput2=\"\"\"28\n",
    "33\n",
    "18\n",
    "42\n",
    "31\n",
    "14\n",
    "46\n",
    "20\n",
    "48\n",
    "47\n",
    "24\n",
    "23\n",
    "49\n",
    "45\n",
    "19\n",
    "38\n",
    "39\n",
    "11\n",
    "1\n",
    "32\n",
    "25\n",
    "35\n",
    "8\n",
    "17\n",
    "7\n",
    "9\n",
    "4\n",
    "2\n",
    "34\n",
    "10\n",
    "3\"\"\"\n",
    "sample_lines2=[int(l) for l in SampleInput2.split('\\n')]"
   ]
  },
  {
   "cell_type": "code",
   "execution_count": 31,
   "metadata": {},
   "outputs": [
    {
     "name": "stdout",
     "output_type": "stream",
     "text": [
      "1: 22\n",
      "2: 0\n",
      "3: 10\n"
     ]
    },
    {
     "data": {
      "text/plain": [
       "220"
      ]
     },
     "execution_count": 31,
     "metadata": {},
     "output_type": "execute_result"
    }
   ],
   "source": [
    "part1(sample_lines2)"
   ]
  },
  {
   "cell_type": "code",
   "execution_count": 32,
   "metadata": {},
   "outputs": [
    {
     "name": "stdout",
     "output_type": "stream",
     "text": [
      "1: 73\n",
      "2: 0\n",
      "3: 31\n"
     ]
    },
    {
     "data": {
      "text/plain": [
       "2263"
      ]
     },
     "execution_count": 32,
     "metadata": {},
     "output_type": "execute_result"
    }
   ],
   "source": [
    "lines = list((int(l) for l in open(\"./inputs/day10\").readlines()))\n",
    "part1(lines)"
   ]
  },
  {
   "cell_type": "markdown",
   "metadata": {},
   "source": [
    "## Part 2\n",
    "Not just the linear path, but all possible optimal variants.\n",
    "\n",
    "That is for `sample_lines` in addition to: `[(0), 1, 4, 5, 6, 7, 10, 11, 12, 15, 16, 19, (22)]`\n",
    "It is also possible to connect as follows:\n",
    "\n",
    "```\n",
    "1. (0), 1, 4, 5, 6, 7, 10, 12, 15, 16, 19, (22)\n",
    "2. (0), 1, 4, 5, 7, 10, 11, 12, 15, 16, 19, (22)\n",
    "3. (0), 1, 4, 5, 7, 10, 12, 15, 16, 19, (22)\n",
    "4. (0), 1, 4, 6, 7, 10, 11, 12, 15, 16, 19, (22)\n",
    "5. (0), 1, 4, 6, 7, 10, 12, 15, 16, 19, (22)\n",
    "6. (0), 1, 4, 7, 10, 11, 12, 15, 16, 19, (22)\n",
    "7. (0), 1, 4, 7, 10, 12, 15, 16, 19, (22)\n",
    "```\n",
    "\n",
    "Giving `8` possible paths to connect all adapters.\n",
    "\n",
    "On the other hand for `sample_lines2` there are `19208` distinct arrangements!\n"
   ]
  },
  {
   "cell_type": "code",
   "execution_count": 56,
   "metadata": {},
   "outputs": [
    {
     "name": "stdout",
     "output_type": "stream",
     "text": [
      "sample_lines:\n",
      "possible adapter sequences: 8\n",
      "\n",
      "sample_lines2:\n",
      "possible adapter sequences: 19208\n",
      "\n",
      "lines aka problem input:\n",
      "possible adapter sequences: 396857386627072\n"
     ]
    },
    {
     "data": {
      "text/plain": [
       "396857386627072"
      ]
     },
     "execution_count": 56,
     "metadata": {},
     "output_type": "execute_result"
    }
   ],
   "source": [
    "def part2(lines):\n",
    "    nums = set(lines)\n",
    "    fin = max(lines)\n",
    "    valid_diffs = [1, 2, 3]\n",
    "    \n",
    "    # brute force iterate through possible sequences with caching\n",
    "    @lru_cache\n",
    "    def seqs(start):\n",
    "        if start == fin:\n",
    "            return 1\n",
    "        count = 0\n",
    "        for d in valid_diffs:\n",
    "            if start + d not in nums:\n",
    "                continue # miss\n",
    "            count += seqs(start + d)\n",
    "        return count\n",
    "    res = seqs(0)\n",
    "    print(\"possible adapter sequences: {}\".format(res))\n",
    "    return res\n",
    "\n",
    "print(\"sample_lines:\")\n",
    "assert part2(sample_lines) == 8, \"Got {} for part2(sample_lines), expected 8\".format(part2(sample_lines))\n",
    "print()\n",
    "print(\"sample_lines2:\")\n",
    "assert part2(sample_lines2) == 19208, \"Got {} for part2(sample_lines), expected 19208\".format(part2(sample_lines))\n",
    "print()\n",
    "print(\"lines aka problem input:\")\n",
    "part2(lines)\n"
   ]
  },
  {
   "cell_type": "code",
   "execution_count": null,
   "metadata": {},
   "outputs": [],
   "source": []
  }
 ],
 "metadata": {
  "kernelspec": {
   "display_name": "Python 3",
   "language": "python",
   "name": "python3"
  },
  "language_info": {
   "codemirror_mode": {
    "name": "ipython",
    "version": 3
   },
   "file_extension": ".py",
   "mimetype": "text/x-python",
   "name": "python",
   "nbconvert_exporter": "python",
   "pygments_lexer": "ipython3",
   "version": "3.9.0"
  }
 },
 "nbformat": 4,
 "nbformat_minor": 4
}
