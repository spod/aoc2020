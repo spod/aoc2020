{
 "cells": [
  {
   "cell_type": "markdown",
   "metadata": {},
   "source": [
    "# AOC 2020 Day 10"
   ]
  },
  {
   "cell_type": "code",
   "execution_count": 1,
   "metadata": {},
   "outputs": [],
   "source": [
    "from collections import defaultdict\n"
   ]
  },
  {
   "cell_type": "code",
   "execution_count": 2,
   "metadata": {},
   "outputs": [],
   "source": [
    "SampleInput=\"\"\"16\n",
    "10\n",
    "15\n",
    "5\n",
    "1\n",
    "11\n",
    "7\n",
    "19\n",
    "6\n",
    "12\n",
    "4\"\"\"\n",
    "sample_lines=[int(l) for l in SampleInput.split('\\n')]"
   ]
  },
  {
   "cell_type": "code",
   "execution_count": 3,
   "metadata": {},
   "outputs": [
    {
     "data": {
      "text/plain": [
       "22"
      ]
     },
     "execution_count": 3,
     "metadata": {},
     "output_type": "execute_result"
    }
   ],
   "source": [
    "lowest_adapter = 0\n",
    "highest_adapter = max(sample_lines) + 3\n",
    "highest_adapter"
   ]
  },
  {
   "cell_type": "code",
   "execution_count": 4,
   "metadata": {},
   "outputs": [
    {
     "name": "stdout",
     "output_type": "stream",
     "text": [
      "x:1, x-prev:1\n",
      "x:4, x-prev:3\n",
      "x:5, x-prev:1\n",
      "x:6, x-prev:1\n",
      "x:7, x-prev:1\n",
      "x:10, x-prev:3\n",
      "x:11, x-prev:1\n",
      "x:12, x-prev:1\n",
      "x:15, x-prev:3\n",
      "x:16, x-prev:1\n",
      "x:19, x-prev:3\n",
      "x:22, x-prev:3\n",
      "defaultdict(<class 'list'>, {1: [1, 5, 6, 7, 11, 12, 16], 3: [4, 10, 15, 19, 22]})\n",
      "1: 7\n",
      "3: 5\n"
     ]
    }
   ],
   "source": [
    "prev=lowest_adapter\n",
    "counts = defaultdict(list)\n",
    "sample_lines.sort()\n",
    "sample_lines.append(highest_adapter)\n",
    "for x in sample_lines:\n",
    "    diff = x-prev\n",
    "    print(\"x:{}, x-prev:{}\".format(x,x-prev))\n",
    "    counts[diff].append(x)\n",
    "    prev=x\n",
    "print(counts)\n",
    "print(\"1: {}\".format(len(counts[1])))\n",
    "print(\"3: {}\".format(len(counts[3])))\n",
    "\n"
   ]
  },
  {
   "cell_type": "code",
   "execution_count": 11,
   "metadata": {},
   "outputs": [
    {
     "name": "stdout",
     "output_type": "stream",
     "text": [
      "l:1, l-prev:1\n",
      "l:4, l-prev:3\n",
      "l:5, l-prev:1\n",
      "l:6, l-prev:1\n",
      "l:7, l-prev:1\n",
      "l:10, l-prev:3\n",
      "l:11, l-prev:1\n",
      "l:12, l-prev:1\n",
      "l:15, l-prev:3\n",
      "l:16, l-prev:1\n",
      "l:19, l-prev:3\n",
      "l:22, l-prev:3\n",
      "l:25, l-prev:3\n",
      "1: 7\n",
      "3: 6\n"
     ]
    },
    {
     "data": {
      "text/plain": [
       "42"
      ]
     },
     "execution_count": 11,
     "metadata": {},
     "output_type": "execute_result"
    }
   ],
   "source": [
    "def part1(lines):\n",
    "    lowest_adapter=0\n",
    "    highest_adapter=max(lines)+3\n",
    "    lines.sort()\n",
    "    lines.append(highest_adapter)\n",
    "    counts=defaultdict(list)\n",
    "    prev=lowest_adapter\n",
    "    for l in lines:\n",
    "        diff = l-prev\n",
    "        print(\"l:{}, l-prev:{}\".format(l,l-prev))\n",
    "        counts[diff].append(x)\n",
    "        prev=l\n",
    "    print(\"1: {}\".format(len(counts[1])))\n",
    "    print(\"3: {}\".format(len(counts[3])))\n",
    "    return(len(counts[1])*len(counts[3]))\n",
    "part1(sample_lines)"
   ]
  },
  {
   "cell_type": "code",
   "execution_count": 9,
   "metadata": {},
   "outputs": [],
   "source": [
    "SampleInput2=\"\"\"28\n",
    "33\n",
    "18\n",
    "42\n",
    "31\n",
    "14\n",
    "46\n",
    "20\n",
    "48\n",
    "47\n",
    "24\n",
    "23\n",
    "49\n",
    "45\n",
    "19\n",
    "38\n",
    "39\n",
    "11\n",
    "1\n",
    "32\n",
    "25\n",
    "35\n",
    "8\n",
    "17\n",
    "7\n",
    "9\n",
    "4\n",
    "2\n",
    "34\n",
    "10\n",
    "3\"\"\"\n",
    "sample_lines2=[int(l) for l in SampleInput2.split('\\n')]"
   ]
  },
  {
   "cell_type": "code",
   "execution_count": 12,
   "metadata": {},
   "outputs": [
    {
     "name": "stdout",
     "output_type": "stream",
     "text": [
      "l:1, l-prev:1\n",
      "l:2, l-prev:1\n",
      "l:3, l-prev:1\n",
      "l:4, l-prev:1\n",
      "l:7, l-prev:3\n",
      "l:8, l-prev:1\n",
      "l:9, l-prev:1\n",
      "l:10, l-prev:1\n",
      "l:11, l-prev:1\n",
      "l:14, l-prev:3\n",
      "l:17, l-prev:3\n",
      "l:18, l-prev:1\n",
      "l:19, l-prev:1\n",
      "l:20, l-prev:1\n",
      "l:23, l-prev:3\n",
      "l:24, l-prev:1\n",
      "l:25, l-prev:1\n",
      "l:28, l-prev:3\n",
      "l:31, l-prev:3\n",
      "l:32, l-prev:1\n",
      "l:33, l-prev:1\n",
      "l:34, l-prev:1\n",
      "l:35, l-prev:1\n",
      "l:38, l-prev:3\n",
      "l:39, l-prev:1\n",
      "l:42, l-prev:3\n",
      "l:45, l-prev:3\n",
      "l:46, l-prev:1\n",
      "l:47, l-prev:1\n",
      "l:48, l-prev:1\n",
      "l:49, l-prev:1\n",
      "l:52, l-prev:3\n",
      "1: 22\n",
      "3: 10\n"
     ]
    },
    {
     "data": {
      "text/plain": [
       "220"
      ]
     },
     "execution_count": 12,
     "metadata": {},
     "output_type": "execute_result"
    }
   ],
   "source": [
    "part1(sample_lines2)"
   ]
  },
  {
   "cell_type": "code",
   "execution_count": 13,
   "metadata": {},
   "outputs": [
    {
     "name": "stdout",
     "output_type": "stream",
     "text": [
      "l:1, l-prev:1\n",
      "l:2, l-prev:1\n",
      "l:3, l-prev:1\n",
      "l:4, l-prev:1\n",
      "l:7, l-prev:3\n",
      "l:8, l-prev:1\n",
      "l:9, l-prev:1\n",
      "l:10, l-prev:1\n",
      "l:11, l-prev:1\n",
      "l:14, l-prev:3\n",
      "l:15, l-prev:1\n",
      "l:16, l-prev:1\n",
      "l:17, l-prev:1\n",
      "l:20, l-prev:3\n",
      "l:21, l-prev:1\n",
      "l:22, l-prev:1\n",
      "l:23, l-prev:1\n",
      "l:24, l-prev:1\n",
      "l:27, l-prev:3\n",
      "l:28, l-prev:1\n",
      "l:29, l-prev:1\n",
      "l:30, l-prev:1\n",
      "l:33, l-prev:3\n",
      "l:34, l-prev:1\n",
      "l:35, l-prev:1\n",
      "l:38, l-prev:3\n",
      "l:41, l-prev:3\n",
      "l:44, l-prev:3\n",
      "l:45, l-prev:1\n",
      "l:46, l-prev:1\n",
      "l:47, l-prev:1\n",
      "l:48, l-prev:1\n",
      "l:51, l-prev:3\n",
      "l:52, l-prev:1\n",
      "l:53, l-prev:1\n",
      "l:54, l-prev:1\n",
      "l:55, l-prev:1\n",
      "l:58, l-prev:3\n",
      "l:59, l-prev:1\n",
      "l:60, l-prev:1\n",
      "l:61, l-prev:1\n",
      "l:62, l-prev:1\n",
      "l:65, l-prev:3\n",
      "l:66, l-prev:1\n",
      "l:67, l-prev:1\n",
      "l:68, l-prev:1\n",
      "l:69, l-prev:1\n",
      "l:72, l-prev:3\n",
      "l:75, l-prev:3\n",
      "l:76, l-prev:1\n",
      "l:77, l-prev:1\n",
      "l:78, l-prev:1\n",
      "l:81, l-prev:3\n",
      "l:84, l-prev:3\n",
      "l:85, l-prev:1\n",
      "l:86, l-prev:1\n",
      "l:87, l-prev:1\n",
      "l:88, l-prev:1\n",
      "l:91, l-prev:3\n",
      "l:94, l-prev:3\n",
      "l:97, l-prev:3\n",
      "l:98, l-prev:1\n",
      "l:99, l-prev:1\n",
      "l:100, l-prev:1\n",
      "l:101, l-prev:1\n",
      "l:104, l-prev:3\n",
      "l:105, l-prev:1\n",
      "l:106, l-prev:1\n",
      "l:107, l-prev:1\n",
      "l:108, l-prev:1\n",
      "l:111, l-prev:3\n",
      "l:112, l-prev:1\n",
      "l:115, l-prev:3\n",
      "l:116, l-prev:1\n",
      "l:117, l-prev:1\n",
      "l:118, l-prev:1\n",
      "l:121, l-prev:3\n",
      "l:122, l-prev:1\n",
      "l:123, l-prev:1\n",
      "l:124, l-prev:1\n",
      "l:127, l-prev:3\n",
      "l:128, l-prev:1\n",
      "l:129, l-prev:1\n",
      "l:130, l-prev:1\n",
      "l:131, l-prev:1\n",
      "l:134, l-prev:3\n",
      "l:137, l-prev:3\n",
      "l:138, l-prev:1\n",
      "l:139, l-prev:1\n",
      "l:140, l-prev:1\n",
      "l:141, l-prev:1\n",
      "l:144, l-prev:3\n",
      "l:147, l-prev:3\n",
      "l:148, l-prev:1\n",
      "l:149, l-prev:1\n",
      "l:152, l-prev:3\n",
      "l:155, l-prev:3\n",
      "l:156, l-prev:1\n",
      "l:159, l-prev:3\n",
      "l:160, l-prev:1\n",
      "l:161, l-prev:1\n",
      "l:162, l-prev:1\n",
      "l:163, l-prev:1\n",
      "l:166, l-prev:3\n",
      "1: 73\n",
      "3: 31\n"
     ]
    },
    {
     "data": {
      "text/plain": [
       "2263"
      ]
     },
     "execution_count": 13,
     "metadata": {},
     "output_type": "execute_result"
    }
   ],
   "source": [
    "lines = list((int(l) for l in open(\"./inputs/day10\").readlines()))\n",
    "part1(lines)"
   ]
  },
  {
   "cell_type": "code",
   "execution_count": null,
   "metadata": {},
   "outputs": [],
   "source": []
  }
 ],
 "metadata": {
  "kernelspec": {
   "display_name": "Python 3",
   "language": "python",
   "name": "python3"
  },
  "language_info": {
   "codemirror_mode": {
    "name": "ipython",
    "version": 3
   },
   "file_extension": ".py",
   "mimetype": "text/x-python",
   "name": "python",
   "nbconvert_exporter": "python",
   "pygments_lexer": "ipython3",
   "version": "3.9.0"
  }
 },
 "nbformat": 4,
 "nbformat_minor": 4
}
