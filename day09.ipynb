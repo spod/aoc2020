{
 "cells": [
  {
   "cell_type": "markdown",
   "metadata": {},
   "source": [
    "### AOC 2020 Day 09\n",
    "\n",
    "Preamble is the first 25 characters in input (5 in Sample).\n",
    "Need to find first number in remainder which is not a sum of numbers in preamble."
   ]
  },
  {
   "cell_type": "code",
   "execution_count": 1,
   "metadata": {},
   "outputs": [],
   "source": [
    "from itertools import combinations, permutations "
   ]
  },
  {
   "cell_type": "code",
   "execution_count": 2,
   "metadata": {},
   "outputs": [],
   "source": [
    "WindowSize = 5\n",
    "SampleInput = \"\"\"35\n",
    "20\n",
    "15\n",
    "25\n",
    "47\n",
    "40\n",
    "62\n",
    "55\n",
    "65\n",
    "95\n",
    "102\n",
    "117\n",
    "150\n",
    "182\n",
    "127\n",
    "219\n",
    "299\n",
    "277\n",
    "309\n",
    "576\"\"\"\n",
    "lines=[int(l) for l in SampleInput.split('\\n')]"
   ]
  },
  {
   "cell_type": "code",
   "execution_count": 3,
   "metadata": {},
   "outputs": [],
   "source": [
    "def valid_values(input, window, start):\n",
    "    return set([t[0] + t[1] for t in list(permutations(input[start:start+window],2))])\n"
   ]
  },
  {
   "cell_type": "code",
   "execution_count": 4,
   "metadata": {},
   "outputs": [
    {
     "data": {
      "text/plain": [
       "{35, 40, 45, 50, 55, 60, 62, 67, 72, 82}"
      ]
     },
     "execution_count": 4,
     "metadata": {},
     "output_type": "execute_result"
    }
   ],
   "source": [
    "precursors = lines[:WindowSize]\n",
    "list(combinations(precursors,2))\n",
    "[t[0]+t[1] for t in list(combinations(precursors,2))]\n",
    "valid = set([t[0] + t[1] for t in list(permutations(precursors,2))])\n",
    "valid"
   ]
  },
  {
   "cell_type": "code",
   "execution_count": 5,
   "metadata": {},
   "outputs": [
    {
     "data": {
      "text/plain": [
       "{35, 40, 45, 50, 55, 60, 62, 67, 72, 82}"
      ]
     },
     "execution_count": 5,
     "metadata": {},
     "output_type": "execute_result"
    }
   ],
   "source": [
    "v = valid_values(lines, 5, 0)\n",
    "v\n"
   ]
  },
  {
   "cell_type": "code",
   "execution_count": 6,
   "metadata": {},
   "outputs": [
    {
     "data": {
      "text/plain": [
       "[40, 62, 55, 65, 95, 102, 117, 150, 182, 127, 219, 299, 277, 309, 576]"
      ]
     },
     "execution_count": 6,
     "metadata": {},
     "output_type": "execute_result"
    }
   ],
   "source": [
    "rest = lines[WindowSize:]\n",
    "rest"
   ]
  },
  {
   "cell_type": "code",
   "execution_count": 7,
   "metadata": {},
   "outputs": [
    {
     "name": "stdout",
     "output_type": "stream",
     "text": [
      "40 0 [35, 20, 15, 25, 47]\n",
      "62 1 [20, 15, 25, 47, 40]\n",
      "55 2 [15, 25, 47, 40, 62]\n",
      "65 3 [25, 47, 40, 62, 55]\n",
      "95 4 [47, 40, 62, 55, 65]\n",
      "102 5 [40, 62, 55, 65, 95]\n",
      "117 6 [62, 55, 65, 95, 102]\n",
      "150 7 [55, 65, 95, 102, 117]\n",
      "182 8 [65, 95, 102, 117, 150]\n",
      "127 9 [95, 102, 117, 150, 182]\n",
      "invalid entry: 127\n"
     ]
    },
    {
     "data": {
      "text/plain": [
       "127"
      ]
     },
     "execution_count": 7,
     "metadata": {},
     "output_type": "execute_result"
    }
   ],
   "source": [
    "start = 0\n",
    "rest = lines[WindowSize:]\n",
    "for e in rest:\n",
    "    print(e, start, lines[start:start+WindowSize])\n",
    "    if e not in valid_values(lines, WindowSize, start):\n",
    "        print(\"invalid entry: {}\".format(e))\n",
    "        break\n",
    "    start += 1\n",
    "e\n",
    "        \n"
   ]
  },
  {
   "cell_type": "code",
   "execution_count": 8,
   "metadata": {},
   "outputs": [],
   "source": [
    "def part1(lines, window_size=25):\n",
    "    start = 0\n",
    "    rest = lines[window_size:]\n",
    "    for entry in rest:\n",
    "        if entry not in valid_values(lines, window_size, start):\n",
    "            print(\"invalid entry: {}\".format(entry))\n",
    "            break\n",
    "        start += 1\n",
    "    return entry"
   ]
  },
  {
   "cell_type": "code",
   "execution_count": 9,
   "metadata": {},
   "outputs": [
    {
     "name": "stdout",
     "output_type": "stream",
     "text": [
      "invalid entry: 31161678\n"
     ]
    },
    {
     "data": {
      "text/plain": [
       "31161678"
      ]
     },
     "execution_count": 9,
     "metadata": {},
     "output_type": "execute_result"
    }
   ],
   "source": [
    "lines = list((int(l) for l in open(\"./inputs/day09\").readlines()))\n",
    "part1(lines)"
   ]
  },
  {
   "cell_type": "code",
   "execution_count": null,
   "metadata": {},
   "outputs": [],
   "source": []
  }
 ],
 "metadata": {
  "kernelspec": {
   "display_name": "Python 3",
   "language": "python",
   "name": "python3"
  },
  "language_info": {
   "codemirror_mode": {
    "name": "ipython",
    "version": 3
   },
   "file_extension": ".py",
   "mimetype": "text/x-python",
   "name": "python",
   "nbconvert_exporter": "python",
   "pygments_lexer": "ipython3",
   "version": "3.9.0"
  }
 },
 "nbformat": 4,
 "nbformat_minor": 4
}
