{
 "cells": [
  {
   "cell_type": "markdown",
   "metadata": {},
   "source": [
    "### AOC 2020 Day 09\n",
    "\n",
    "Preamble is the first 25 characters in input (5 in Sample).\n",
    "Need to find first number in remainder which is not a sum of numbers in preamble."
   ]
  },
  {
   "cell_type": "code",
   "execution_count": 1,
   "metadata": {},
   "outputs": [],
   "source": [
    "from collections import defaultdict\n",
    "from itertools import permutations "
   ]
  },
  {
   "cell_type": "code",
   "execution_count": 2,
   "metadata": {},
   "outputs": [],
   "source": [
    "WindowSize = 5\n",
    "SampleInput = \"\"\"35\n",
    "20\n",
    "15\n",
    "25\n",
    "47\n",
    "40\n",
    "62\n",
    "55\n",
    "65\n",
    "95\n",
    "102\n",
    "117\n",
    "150\n",
    "182\n",
    "127\n",
    "219\n",
    "299\n",
    "277\n",
    "309\n",
    "576\"\"\"\n",
    "sample_lines=[int(l) for l in SampleInput.split('\\n')]"
   ]
  },
  {
   "cell_type": "code",
   "execution_count": 3,
   "metadata": {},
   "outputs": [],
   "source": [
    "def valid_values(input, window, start):\n",
    "    return set([t[0] + t[1] for t in list(permutations(input[start:start+window],2))])\n"
   ]
  },
  {
   "cell_type": "code",
   "execution_count": 4,
   "metadata": {},
   "outputs": [
    {
     "name": "stdout",
     "output_type": "stream",
     "text": [
      "40 0 [35, 20, 15, 25, 47]\n",
      "62 1 [20, 15, 25, 47, 40]\n",
      "55 2 [15, 25, 47, 40, 62]\n",
      "65 3 [25, 47, 40, 62, 55]\n",
      "95 4 [47, 40, 62, 55, 65]\n",
      "102 5 [40, 62, 55, 65, 95]\n",
      "117 6 [62, 55, 65, 95, 102]\n",
      "150 7 [55, 65, 95, 102, 117]\n",
      "182 8 [65, 95, 102, 117, 150]\n",
      "127 9 [95, 102, 117, 150, 182]\n",
      "invalid entry: 127\n"
     ]
    },
    {
     "data": {
      "text/plain": [
       "127"
      ]
     },
     "execution_count": 4,
     "metadata": {},
     "output_type": "execute_result"
    }
   ],
   "source": [
    "start = 0\n",
    "rest = sample_lines[WindowSize:]\n",
    "for e in rest:\n",
    "    print(e, start, sample_lines[start:start+WindowSize])\n",
    "    if e not in valid_values(sample_lines, WindowSize, start):\n",
    "        print(\"invalid entry: {}\".format(e))\n",
    "        break\n",
    "    start += 1\n",
    "e"
   ]
  },
  {
   "cell_type": "code",
   "execution_count": 5,
   "metadata": {},
   "outputs": [],
   "source": [
    "def part1(lines, window_size=25):\n",
    "    start = 0\n",
    "    rest = lines[window_size:]\n",
    "    for entry in rest:\n",
    "        if entry not in valid_values(lines, window_size, start):\n",
    "            print(\"invalid entry: {}\".format(entry))\n",
    "            break\n",
    "        start += 1\n",
    "    return entry"
   ]
  },
  {
   "cell_type": "code",
   "execution_count": 6,
   "metadata": {},
   "outputs": [
    {
     "name": "stdout",
     "output_type": "stream",
     "text": [
      "invalid entry: 31161678\n"
     ]
    },
    {
     "data": {
      "text/plain": [
       "31161678"
      ]
     },
     "execution_count": 6,
     "metadata": {},
     "output_type": "execute_result"
    }
   ],
   "source": [
    "lines = list((int(l) for l in open(\"./inputs/day09\").readlines()))\n",
    "part1(lines)"
   ]
  },
  {
   "cell_type": "markdown",
   "metadata": {},
   "source": [
    "### Part 2\n",
    "For part 2 need to find the contiguous range in input which sums to invalid value (127 for `sample_lines`).\n",
    "\n",
    "From sample that is `[15, 25, 47, 40]` as `sum([15, 25, 47, 40]) == 127`.\n",
    "\n",
    "Naive approach? Start with 2, then 3, then 4 etc and iterate through list finding ranges.\n",
    "\n",
    "Almost certainly a better way to do this with a [segment tree](https://cp-algorithms.com/data_structures/segment_tree.html) but for now we're just rushing."
   ]
  },
  {
   "cell_type": "code",
   "execution_count": 7,
   "metadata": {},
   "outputs": [
    {
     "name": "stdout",
     "output_type": "stream",
     "text": [
      "[35, 20, 15, 25, 47, 40, 62, 55, 65, 95, 102, 117, 150, 182, 127, 219, 299, 277, 309, 576]\n",
      "interval is: sample_lines[2:6] => [15, 25, 47, 40]\n",
      "weakness is: 15 + 47 = 62\n"
     ]
    }
   ],
   "source": [
    "print(sample_lines)\n",
    "interval_size = 2\n",
    "target = 127\n",
    "for interval_size in range(2,len(sample_lines)):\n",
    "    for x in range(0, len(sample_lines)):\n",
    "        if target == sum(sample_lines[x:x+interval_size]):\n",
    "            print(\"interval is: sample_lines[{}:{}] => {}\".format(x, x+interval_size, sample_lines[x:x+interval_size]))\n",
    "            weak_min = min(sample_lines[x:x+interval_size])\n",
    "            weak_max = max(sample_lines[x:x+interval_size])\n",
    "            print(\"weakness is: {} + {} = {}\".format( weak_min, weak_max, weak_min + weak_max))\n",
    "            break\n",
    "    \n",
    "    \n"
   ]
  },
  {
   "cell_type": "code",
   "execution_count": 8,
   "metadata": {},
   "outputs": [],
   "source": [
    "def part2(lines, target):\n",
    "    interval_size = 2\n",
    "    for interval_size in range(2,len(lines)):\n",
    "        for x in range(0, len(lines)):\n",
    "            if target == sum(lines[x:x+interval_size]):\n",
    "                print(\"interval is: lines[{}:{}] => {}\".format(x, x+interval_size, lines[x:x+interval_size]))\n",
    "                weak_min = min(lines[x:x+interval_size])\n",
    "                weak_max = max(lines[x:x+interval_size])\n",
    "                print(\"weakness is: {} + {} = {}\".format( weak_min, weak_max, weak_min + weak_max))\n"
   ]
  },
  {
   "cell_type": "code",
   "execution_count": 9,
   "metadata": {},
   "outputs": [
    {
     "name": "stdout",
     "output_type": "stream",
     "text": [
      "invalid entry: 31161678\n",
      "interval is: lines[388:405] => [1221256, 1212280, 1297771, 2600543, 1262698, 1532207, 1275754, 1432328, 1294462, 2199548, 2708082, 1380490, 2768025, 1526574, 1602882, 4241588, 1605190]\n",
      "weakness is: 1212280 + 4241588 = 5453868\n"
     ]
    }
   ],
   "source": [
    "part2(lines, part1(lines))"
   ]
  },
  {
   "cell_type": "code",
   "execution_count": null,
   "metadata": {},
   "outputs": [],
   "source": []
  }
 ],
 "metadata": {
  "kernelspec": {
   "display_name": "Python 3",
   "language": "python",
   "name": "python3"
  },
  "language_info": {
   "codemirror_mode": {
    "name": "ipython",
    "version": 3
   },
   "file_extension": ".py",
   "mimetype": "text/x-python",
   "name": "python",
   "nbconvert_exporter": "python",
   "pygments_lexer": "ipython3",
   "version": "3.9.0"
  }
 },
 "nbformat": 4,
 "nbformat_minor": 4
}
