{
 "cells": [
  {
   "cell_type": "markdown",
   "metadata": {},
   "source": [
    "# AOC 2020 Day 11\n",
    "\n",
    "Seat layout input is a grid:\n",
    "```\n",
    "L.LL.LL.LL\n",
    "LLLLLLL.LL\n",
    "L.L.L..L..\n",
    "LLLL.LL.LL\n",
    "L.LL.LL.LL\n",
    "L.LLLLL.LL\n",
    "..L.L.....\n",
    "LLLLLLLLLL\n",
    "L.LLLLLL.L\n",
    "L.LLLLL.LL\n",
    "```\n",
    "\n",
    "\n",
    "\n",
    "Grid entries can be one of:\n",
    "- `L` - empty seat\n",
    "- `#` - occupied seat\n",
    "- `.` - floor\n",
    "\n",
    "\n",
    "Rules are based on adjacent seats, 8 surrounding seats ala chess king moves (U,D,L,R,UL,UR,DL,DR).\n",
    "\n",
    "Rules to apply are:\n",
    "1. If a seat is empty (L) and there are no occupied seats adjacent to it, the seat becomes occupied.\n",
    "2. If a seat is occupied (#) and four or more seats adjacent to it are also occupied, the seat becomes empty.\n",
    "3. Otherwise, the seat's state does not change.\n",
    "\n",
    "Floor seats do not change.\n",
    "\n",
    "When rules are applied they stabilize, at that point count occupied seats, for this grid it's `37`.\n",
    "\n",
    "Input after one round of rules:\n",
    "```\n",
    "#.##.##.##\n",
    "#######.##\n",
    "#.#.#..#..\n",
    "####.##.##\n",
    "#.##.##.##\n",
    "#.#####.##\n",
    "..#.#.....\n",
    "##########\n",
    "#.######.#\n",
    "#.#####.##\n",
    "```\n",
    "\n",
    "After second round:\n",
    "```\n",
    "#.LL.L#.##\n",
    "#LLLLLL.L#\n",
    "L.L.L..L..\n",
    "#LLL.LL.L#\n",
    "#.LL.LL.LL\n",
    "#.LLLL#.##\n",
    "..L.L.....\n",
    "#LLLLLLLL#\n",
    "#.LLLLLL.L\n",
    "#.#LLLL.##\n",
    "```\n",
    "\n",
    "Eventual stable state after 3 more rounds:\n",
    "```\n",
    "#.#L.L#.##\n",
    "#LLL#LL.L#\n",
    "L.#.L..#..\n",
    "#L##.##.L#\n",
    "#.#L.LL.LL\n",
    "#.#L#L#.##\n",
    "..L.L.....\n",
    "#L#L##L#L#\n",
    "#.LLLLLL.L\n",
    "#.#L#L#.##\n",
    "```\n",
    "\n"
   ]
  },
  {
   "cell_type": "code",
   "execution_count": null,
   "metadata": {},
   "outputs": [],
   "source": []
  },
  {
   "cell_type": "code",
   "execution_count": 1,
   "metadata": {},
   "outputs": [],
   "source": [
    "SampleInput=\"\"\"L.LL.LL.LL\n",
    "LLLLLLL.LL\n",
    "L.L.L..L..\n",
    "LLLL.LL.LL\n",
    "L.LL.LL.LL\n",
    "L.LLLLL.LL\n",
    "..L.L.....\n",
    "LLLLLLLLLL\n",
    "L.LLLLLL.L\n",
    "L.LLLLL.LL\"\"\""
   ]
  },
  {
   "cell_type": "code",
   "execution_count": 2,
   "metadata": {},
   "outputs": [],
   "source": [
    "def load_seat_map(input):\n",
    "    result = []\n",
    "    for line in input.split('\\n'):\n",
    "        if line != '':\n",
    "            row = [seat for seat in line]\n",
    "            result.append(row)\n",
    "    return result\n",
    "\n",
    "sample_map0 = load_seat_map(SampleInput)\n",
    "sample_map0\n",
    "\n",
    "def print_seat_map(seat_map):\n",
    "    max_row = len(seat_map)\n",
    "    max_col = len(seat_map[0])\n",
    "\n",
    "    for r in seat_map:\n",
    "        print(\"\".join(r))\n",
    "    print(\"max_row: {}, max_col: {}\".format(max_row, max_col))"
   ]
  },
  {
   "cell_type": "code",
   "execution_count": 3,
   "metadata": {},
   "outputs": [
    {
     "name": "stdout",
     "output_type": "stream",
     "text": [
      "adjacent to row 0, col 0 :- ['.', 'L', 'L']\n",
      "adjacent to row 1, col 1 :- ['L', '.', 'L', 'L', 'L', 'L', '.', 'L']\n",
      "adjacent to row 9, col 0 :- ['L', '.', '.']\n"
     ]
    }
   ],
   "source": [
    "def adjacent_seats(seat_map, row, col):\n",
    "    \"\"\"Return a list of all adjacent seats for position row, column in seat_map\"\"\"\n",
    "    adj = []\n",
    "    max_row = len(seat_map)\n",
    "    max_col = len(seat_map[0])\n",
    "    for r in range(row-1,row+2):\n",
    "        for c in range(col-1,col+2):\n",
    "            # skip invalid co-ordinates\n",
    "            if r < 0:\n",
    "                continue\n",
    "            if c < 0:\n",
    "                continue\n",
    "            if r >= max_row:\n",
    "                continue\n",
    "            if c >= max_col:\n",
    "                continue\n",
    "            if r == row and c == col:\n",
    "                continue\n",
    "            #print(\"({},{}): {}\".format(r,c, seat_map[r][c]))\n",
    "            adj.append(seat_map[r][c])\n",
    "\n",
    "    return adj\n",
    "\n",
    "print(\"adjacent to row {}, col {} :- {}\".format(0, 0, adjacent_seats(sample_map0, 0, 0)))\n",
    "print(\"adjacent to row {}, col {} :- {}\".format(1, 1, adjacent_seats(sample_map0, 1, 1)))\n",
    "print(\"adjacent to row {}, col {} :- {}\".format(9, 0, adjacent_seats(sample_map0, 9, 0)))\n"
   ]
  },
  {
   "cell_type": "code",
   "execution_count": 4,
   "metadata": {},
   "outputs": [],
   "source": [
    "def apply_rules(seat_map):\n",
    "    \"\"\"Apply rules to seat_map\"\"\"\n",
    "    result = []\n",
    "    max_row = len(seat_map)\n",
    "    max_col = len(seat_map[0])\n",
    "    # create blank result grid\n",
    "    for r in range(0, max_row):\n",
    "        result.append([])\n",
    "        for c in range(0, max_col):\n",
    "            result[r].append('')\n",
    "    # apply rules\n",
    "    # 1. If a seat is empty (L) and there are no occupied seats adjacent to it, the seat becomes occupied.\n",
    "    # 2. If a seat is occupied (#) and four or more seats adjacent to it are also occupied, the seat becomes empty.\n",
    "    # 3. Otherwise, the seat's state does not change.\n",
    "    for r in range(0, max_row):\n",
    "        for c in range(0, max_col):\n",
    "            seat = seat_map[r][c]\n",
    "            neighbours = adjacent_seats(seat_map, r, c)\n",
    "            if seat == '.':\n",
    "                result[r][c] = '.'\n",
    "            if seat == 'L' and '#' not in neighbours:\n",
    "                result[r][c] = '#'\n",
    "            if seat == '#' and neighbours.count('#') >= 4:\n",
    "                result[r][c] = 'L'\n",
    "            elif seat == '#':\n",
    "                result[r][c] = '#'\n",
    "    \n",
    "#     print(\"result:\")\n",
    "#     for r in result:\n",
    "#         print(\"\".join(r))\n",
    "            \n",
    "    return(result)\n",
    "\n"
   ]
  },
  {
   "cell_type": "code",
   "execution_count": 5,
   "metadata": {},
   "outputs": [],
   "source": [
    "expected_sample_map1 = load_seat_map(\"\"\"#.##.##.##\n",
    "#######.##\n",
    "#.#.#..#..\n",
    "####.##.##\n",
    "#.##.##.##\n",
    "#.#####.##\n",
    "..#.#.....\n",
    "##########\n",
    "#.######.#\n",
    "#.#####.##\"\"\")\n",
    "\n",
    "assert apply_rules(sample_map0) == expected_sample_map1, \"invalid result!\"\n",
    "\n",
    "expected_sample_map2 = load_seat_map(\"\"\"#.LL.L#.##\n",
    "#LLLLLL.L#\n",
    "L.L.L..L..\n",
    "#LLL.LL.L#\n",
    "#.LL.LL.LL\n",
    "#.LLLL#.##\n",
    "..L.L.....\n",
    "#LLLLLLLL#\n",
    "#.LLLLLL.L\n",
    "#.#LLLL.##\"\"\")\n",
    "assert apply_rules(apply_rules(sample_map0)) == expected_sample_map2, \"invalid result!\"\n",
    "\n"
   ]
  },
  {
   "cell_type": "code",
   "execution_count": 6,
   "metadata": {},
   "outputs": [
    {
     "data": {
      "text/plain": [
       "37"
      ]
     },
     "execution_count": 6,
     "metadata": {},
     "output_type": "execute_result"
    }
   ],
   "source": [
    "def part1(input):\n",
    "    last_map = load_seat_map(input)\n",
    "    while apply_rules(last_map) != last_map:\n",
    "        last_map = apply_rules(last_map)\n",
    "    \n",
    "    result = 0\n",
    "    for row in last_map:\n",
    "        result += row.count('#')\n",
    "    return result\n",
    "\n",
    "\n",
    "assert part1(SampleInput) == 37, \"invalid result - got {}\".format(part1(SampleInput))\n",
    "\n",
    "part1(SampleInput)"
   ]
  },
  {
   "cell_type": "code",
   "execution_count": 7,
   "metadata": {},
   "outputs": [
    {
     "data": {
      "text/plain": [
       "2178"
      ]
     },
     "execution_count": 7,
     "metadata": {},
     "output_type": "execute_result"
    }
   ],
   "source": [
    "day11 = open(\"./inputs/day11\").read()\n",
    "day11_map = load_seat_map(day11)\n",
    "#print_seat_map(day11_map)\n",
    "#apply_rules(day11_map)\n",
    "part1(day11)"
   ]
  },
  {
   "cell_type": "code",
   "execution_count": null,
   "metadata": {},
   "outputs": [],
   "source": []
  }
 ],
 "metadata": {
  "kernelspec": {
   "display_name": "Python 3",
   "language": "python",
   "name": "python3"
  },
  "language_info": {
   "codemirror_mode": {
    "name": "ipython",
    "version": 3
   },
   "file_extension": ".py",
   "mimetype": "text/x-python",
   "name": "python",
   "nbconvert_exporter": "python",
   "pygments_lexer": "ipython3",
   "version": "3.9.0"
  }
 },
 "nbformat": 4,
 "nbformat_minor": 4
}
